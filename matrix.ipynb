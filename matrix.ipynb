{
 "cells": [
  {
   "cell_type": "markdown",
   "metadata": {},
   "source": [
    "Домашнее задание 1"
   ]
  },
  {
   "cell_type": "markdown",
   "metadata": {},
   "source": [
    "Практическое задание написать программу реализующую:\n",
    "1. Создание 2-x массивов размерностью 5X5 из случайных чисел.\n",
    "2. Запись этих массивов в разные файлы.\n",
    "3. Чтение из файла записанных масивов и их перемножение.\n",
    "4. Записи и чтения результата перемножения в файл."
   ]
  },
  {
   "cell_type": "code",
   "execution_count": 35,
   "metadata": {},
   "outputs": [
    {
     "name": "stdout",
     "output_type": "stream",
     "text": [
      "[[3, 3, 2, 2, 0], [6, 4, 3, 3, 10], [1, 5, 0, 10, 9], [3, 3, 4, 7, 6], [5, 8, 9, 7, 2]]\n",
      "[[5, 1, 7, 3, 9], [4, 1, 7, 3, 0], [9, 10, 4, 4, 9], [2, 10, 2, 10, 9], [6, 6, 6, 7, 5]]\n",
      "[[49, 46, 54, 46, 63], [139, 130, 148, 142, 158], [99, 160, 116, 181, 144], [113, 152, 108, 146, 156], [164, 185, 153, 159, 199]]\n"
     ]
    }
   ],
   "source": [
    "import random \n",
    "\n",
    "matrix_one = \"first.txt\"\n",
    "matrix_two = \"second.txt\"\n",
    "matrix_result = \"result.txt\"\n",
    "\n",
    "\n",
    "def create(size) :\n",
    "    matrix=[]\n",
    "    for i in range(size):\n",
    "        line = [random.randint(0,10) for j in range(size)]\n",
    "        matrix.append(line)\n",
    "    return matrix \n",
    "\n",
    "\n",
    "def matrixmult(m1,m2):\n",
    "    s=0     #сумма\n",
    "    t=[]    #временная матрица\n",
    "    m3=[] # конечная матрица\n",
    "    if len(m2)!=len(m1[0]):\n",
    "        print(\"Матрицы не могут быть перемножены\" )        \n",
    "    else:\n",
    "        r1=len(m1) #количество строк в первой матрице\n",
    "        c1=len(m1[0]) #Количество столбцов в 1   \n",
    "        r2=c1           #и строк во 2ой матрице\n",
    "        c2=len(m2[0])  # количество столбцов во 2ой матрице\n",
    "        for k in range(0,r1):\n",
    "            for j in range(0,c2):\n",
    "                for i in range(0,c1):\n",
    "                   s=s+m1[k][i]*m2[i][j]\n",
    "                t.append(s)\n",
    "                s=0\n",
    "            m3.append(t)\n",
    "            t=[]           \n",
    "    return m3\n",
    "\n",
    "def write_matrix(matrix, file_name):\n",
    "    with open(file_name, \"w\") as wfile:\n",
    "        for line in matrix:\n",
    "            wfile.write(str(line).strip('[]') + '\\n')\n",
    "        wfile.close()\n",
    "\n",
    "\n",
    "def read_matrix(file_name):\n",
    "    with open(file_name, \"r\") as rfile:\n",
    "        matrix = []\n",
    "        for lines in rfile:\n",
    "            file_line = lines.strip().split(',')\n",
    "            matrix_line = [int(value) for value in file_line]\n",
    "            matrix.append(matrix_line)\n",
    "        rfile.close()\n",
    "        return matrix\n",
    "\n",
    "\n",
    "first_matrix=create(5)\n",
    "second_matrix=create(5)\n",
    "\n",
    "write_matrix(first_matrix,matrix_one)\n",
    "\n",
    "write_matrix(second_matrix,matrix_two)\n",
    "\n",
    "\n",
    "first = read_matrix(matrix_one)\n",
    "second = read_matrix(matrix_two)\n",
    "\n",
    "result = matrixmult(first, second)\n",
    " \n",
    "write_matrix(result,matrix_result)\n",
    "\n",
    "print(first_matrix)\n",
    "print(second_matrix)\n",
    "\n",
    "\n",
    "print(result)"
   ]
  }
 ],
 "metadata": {
  "kernelspec": {
   "display_name": "Python 3",
   "language": "python",
   "name": "python3"
  },
  "language_info": {
   "codemirror_mode": {
    "name": "ipython",
    "version": 3
   },
   "file_extension": ".py",
   "mimetype": "text/x-python",
   "name": "python",
   "nbconvert_exporter": "python",
   "pygments_lexer": "ipython3",
   "version": "3.7.3"
  }
 },
 "nbformat": 4,
 "nbformat_minor": 2
}
